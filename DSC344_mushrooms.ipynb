{
  "nbformat": 4,
  "nbformat_minor": 0,
  "metadata": {
    "colab": {
      "name": "DSC344_mushrooms.ipynb",
      "provenance": [],
      "collapsed_sections": []
    },
    "kernelspec": {
      "name": "python3",
      "display_name": "Python 3"
    },
    "language_info": {
      "name": "python"
    }
  },
  "cells": [
    {
      "cell_type": "markdown",
      "source": [
        "##05/10/2022 -- Universtiy of New England -- DSC 344: Machine Learning\n",
        "###Rebecca Baert '23 -- Mushroom Classifer\n",
        "This my final project for a machine learning class. The assignment was to chose a data set and apply techniques learned throughout the semester, provide justification of the steps we chose to take, and analysis of our results along the way. \n",
        "\n",
        "Data set I used: https://www.kaggle.com/datasets/uciml/mushroom-classification"
      ],
      "metadata": {
        "id": "_k2gJWdP3VXp"
      }
    },
    {
      "cell_type": "code",
      "source": [
        "pip install fast_ml"
      ],
      "metadata": {
        "colab": {
          "base_uri": "https://localhost:8080/"
        },
        "id": "fhv-BCKtcqnT",
        "outputId": "5a56dec9-c758-454b-fa2c-be303a448a52"
      },
      "execution_count": null,
      "outputs": [
        {
          "output_type": "stream",
          "name": "stdout",
          "text": [
            "Looking in indexes: https://pypi.org/simple, https://us-python.pkg.dev/colab-wheels/public/simple/\n",
            "Collecting fast_ml\n",
            "  Downloading fast_ml-3.68-py3-none-any.whl (42 kB)\n",
            "\u001b[K     |████████████████████████████████| 42 kB 787 kB/s \n",
            "\u001b[?25hInstalling collected packages: fast-ml\n",
            "Successfully installed fast-ml-3.68\n"
          ]
        }
      ]
    },
    {
      "cell_type": "code",
      "execution_count": 7,
      "metadata": {
        "id": "2h27vJ2t37Qk"
      },
      "outputs": [],
      "source": [
        "import pandas as pd\n",
        "%matplotlib inline\n",
        "import matplotlib.pyplot as plt\n",
        "import numpy as np\n",
        "from sklearn.model_selection import cross_val_predict, cross_val_score, cross_validate, RandomizedSearchCV\n",
        "from sklearn.preprocessing import OneHotEncoder, OrdinalEncoder\n",
        "from sklearn.ensemble import HistGradientBoostingClassifier\n",
        "from sklearn.pipeline import make_pipeline, Pipeline\n",
        "from sklearn.compose import make_column_transformer, make_column_selector\n",
        "from sklearn.tree import DecisionTreeClassifier\n",
        "from sklearn.ensemble import BaggingClassifier, AdaBoostClassifier, RandomForestClassifier\n",
        "from sklearn.cluster import KMeans\n",
        "from sklearn.metrics import precision_score, recall_score, f1_score, roc_curve, roc_auc_score, confusion_matrix\n",
        "from fast_ml.model_development import train_valid_test_split\n",
        "import lightgbm as lgb\n",
        "from scipy.stats import randint\n",
        "from sklearn.compose import ColumnTransformer\n",
        "mush = pd.read_csv('sample_data/mushrooms1.csv')"
      ]
    },
    {
      "cell_type": "markdown",
      "source": [
        "# Viewing the data\n",
        "To start we can view the first ten rows of data to get an idea of the structures. Based on these rows we can see:\n",
        "* Class is the label (posionous or edibible). This is what we are going to try to predict. \n",
        "* There are 22 features, all of which are categorical. "
      ],
      "metadata": {
        "id": "Aghqv04pY7Q5"
      }
    },
    {
      "cell_type": "code",
      "source": [
        "mush.head()"
      ],
      "metadata": {
        "colab": {
          "base_uri": "https://localhost:8080/",
          "height": 352
        },
        "id": "mvYSKal1ZHdr",
        "outputId": "2336ba7a-a129-46d6-f404-f8c1ca0e6ccc"
      },
      "execution_count": 8,
      "outputs": [
        {
          "output_type": "execute_result",
          "data": {
            "text/plain": [
              "  class cap-shape cap-surface cap-color bruises odor gill-attachment  \\\n",
              "0     p         x           s         n       t    p               f   \n",
              "1     e         x           s         y       t    a               f   \n",
              "2     e         b           s         w       t    l               f   \n",
              "3     p         x           y         w       t    p               f   \n",
              "4     e         x           s         g       f    n               f   \n",
              "\n",
              "  gill-spacing gill-size gill-color  ... stalk-surface-below-ring  \\\n",
              "0            c         n          k  ...                        s   \n",
              "1            c         b          k  ...                        s   \n",
              "2            c         b          n  ...                        s   \n",
              "3            c         n          n  ...                        s   \n",
              "4            w         b          k  ...                        s   \n",
              "\n",
              "  stalk-color-above-ring stalk-color-below-ring veil-type veil-color  \\\n",
              "0                      w                      w         p          w   \n",
              "1                      w                      w         p          w   \n",
              "2                      w                      w         p          w   \n",
              "3                      w                      w         p          w   \n",
              "4                      w                      w         p          w   \n",
              "\n",
              "  ring-number ring-type spore-print-color population habitat  \n",
              "0           o         p                 k          s       u  \n",
              "1           o         p                 n          n       g  \n",
              "2           o         p                 n          n       m  \n",
              "3           o         p                 k          s       u  \n",
              "4           o         e                 n          a       g  \n",
              "\n",
              "[5 rows x 22 columns]"
            ],
            "text/html": [
              "\n",
              "  <div id=\"df-d26a5852-4bb6-4110-a25f-0e8b0888bb90\">\n",
              "    <div class=\"colab-df-container\">\n",
              "      <div>\n",
              "<style scoped>\n",
              "    .dataframe tbody tr th:only-of-type {\n",
              "        vertical-align: middle;\n",
              "    }\n",
              "\n",
              "    .dataframe tbody tr th {\n",
              "        vertical-align: top;\n",
              "    }\n",
              "\n",
              "    .dataframe thead th {\n",
              "        text-align: right;\n",
              "    }\n",
              "</style>\n",
              "<table border=\"1\" class=\"dataframe\">\n",
              "  <thead>\n",
              "    <tr style=\"text-align: right;\">\n",
              "      <th></th>\n",
              "      <th>class</th>\n",
              "      <th>cap-shape</th>\n",
              "      <th>cap-surface</th>\n",
              "      <th>cap-color</th>\n",
              "      <th>bruises</th>\n",
              "      <th>odor</th>\n",
              "      <th>gill-attachment</th>\n",
              "      <th>gill-spacing</th>\n",
              "      <th>gill-size</th>\n",
              "      <th>gill-color</th>\n",
              "      <th>...</th>\n",
              "      <th>stalk-surface-below-ring</th>\n",
              "      <th>stalk-color-above-ring</th>\n",
              "      <th>stalk-color-below-ring</th>\n",
              "      <th>veil-type</th>\n",
              "      <th>veil-color</th>\n",
              "      <th>ring-number</th>\n",
              "      <th>ring-type</th>\n",
              "      <th>spore-print-color</th>\n",
              "      <th>population</th>\n",
              "      <th>habitat</th>\n",
              "    </tr>\n",
              "  </thead>\n",
              "  <tbody>\n",
              "    <tr>\n",
              "      <th>0</th>\n",
              "      <td>p</td>\n",
              "      <td>x</td>\n",
              "      <td>s</td>\n",
              "      <td>n</td>\n",
              "      <td>t</td>\n",
              "      <td>p</td>\n",
              "      <td>f</td>\n",
              "      <td>c</td>\n",
              "      <td>n</td>\n",
              "      <td>k</td>\n",
              "      <td>...</td>\n",
              "      <td>s</td>\n",
              "      <td>w</td>\n",
              "      <td>w</td>\n",
              "      <td>p</td>\n",
              "      <td>w</td>\n",
              "      <td>o</td>\n",
              "      <td>p</td>\n",
              "      <td>k</td>\n",
              "      <td>s</td>\n",
              "      <td>u</td>\n",
              "    </tr>\n",
              "    <tr>\n",
              "      <th>1</th>\n",
              "      <td>e</td>\n",
              "      <td>x</td>\n",
              "      <td>s</td>\n",
              "      <td>y</td>\n",
              "      <td>t</td>\n",
              "      <td>a</td>\n",
              "      <td>f</td>\n",
              "      <td>c</td>\n",
              "      <td>b</td>\n",
              "      <td>k</td>\n",
              "      <td>...</td>\n",
              "      <td>s</td>\n",
              "      <td>w</td>\n",
              "      <td>w</td>\n",
              "      <td>p</td>\n",
              "      <td>w</td>\n",
              "      <td>o</td>\n",
              "      <td>p</td>\n",
              "      <td>n</td>\n",
              "      <td>n</td>\n",
              "      <td>g</td>\n",
              "    </tr>\n",
              "    <tr>\n",
              "      <th>2</th>\n",
              "      <td>e</td>\n",
              "      <td>b</td>\n",
              "      <td>s</td>\n",
              "      <td>w</td>\n",
              "      <td>t</td>\n",
              "      <td>l</td>\n",
              "      <td>f</td>\n",
              "      <td>c</td>\n",
              "      <td>b</td>\n",
              "      <td>n</td>\n",
              "      <td>...</td>\n",
              "      <td>s</td>\n",
              "      <td>w</td>\n",
              "      <td>w</td>\n",
              "      <td>p</td>\n",
              "      <td>w</td>\n",
              "      <td>o</td>\n",
              "      <td>p</td>\n",
              "      <td>n</td>\n",
              "      <td>n</td>\n",
              "      <td>m</td>\n",
              "    </tr>\n",
              "    <tr>\n",
              "      <th>3</th>\n",
              "      <td>p</td>\n",
              "      <td>x</td>\n",
              "      <td>y</td>\n",
              "      <td>w</td>\n",
              "      <td>t</td>\n",
              "      <td>p</td>\n",
              "      <td>f</td>\n",
              "      <td>c</td>\n",
              "      <td>n</td>\n",
              "      <td>n</td>\n",
              "      <td>...</td>\n",
              "      <td>s</td>\n",
              "      <td>w</td>\n",
              "      <td>w</td>\n",
              "      <td>p</td>\n",
              "      <td>w</td>\n",
              "      <td>o</td>\n",
              "      <td>p</td>\n",
              "      <td>k</td>\n",
              "      <td>s</td>\n",
              "      <td>u</td>\n",
              "    </tr>\n",
              "    <tr>\n",
              "      <th>4</th>\n",
              "      <td>e</td>\n",
              "      <td>x</td>\n",
              "      <td>s</td>\n",
              "      <td>g</td>\n",
              "      <td>f</td>\n",
              "      <td>n</td>\n",
              "      <td>f</td>\n",
              "      <td>w</td>\n",
              "      <td>b</td>\n",
              "      <td>k</td>\n",
              "      <td>...</td>\n",
              "      <td>s</td>\n",
              "      <td>w</td>\n",
              "      <td>w</td>\n",
              "      <td>p</td>\n",
              "      <td>w</td>\n",
              "      <td>o</td>\n",
              "      <td>e</td>\n",
              "      <td>n</td>\n",
              "      <td>a</td>\n",
              "      <td>g</td>\n",
              "    </tr>\n",
              "  </tbody>\n",
              "</table>\n",
              "<p>5 rows × 22 columns</p>\n",
              "</div>\n",
              "      <button class=\"colab-df-convert\" onclick=\"convertToInteractive('df-d26a5852-4bb6-4110-a25f-0e8b0888bb90')\"\n",
              "              title=\"Convert this dataframe to an interactive table.\"\n",
              "              style=\"display:none;\">\n",
              "        \n",
              "  <svg xmlns=\"http://www.w3.org/2000/svg\" height=\"24px\"viewBox=\"0 0 24 24\"\n",
              "       width=\"24px\">\n",
              "    <path d=\"M0 0h24v24H0V0z\" fill=\"none\"/>\n",
              "    <path d=\"M18.56 5.44l.94 2.06.94-2.06 2.06-.94-2.06-.94-.94-2.06-.94 2.06-2.06.94zm-11 1L8.5 8.5l.94-2.06 2.06-.94-2.06-.94L8.5 2.5l-.94 2.06-2.06.94zm10 10l.94 2.06.94-2.06 2.06-.94-2.06-.94-.94-2.06-.94 2.06-2.06.94z\"/><path d=\"M17.41 7.96l-1.37-1.37c-.4-.4-.92-.59-1.43-.59-.52 0-1.04.2-1.43.59L10.3 9.45l-7.72 7.72c-.78.78-.78 2.05 0 2.83L4 21.41c.39.39.9.59 1.41.59.51 0 1.02-.2 1.41-.59l7.78-7.78 2.81-2.81c.8-.78.8-2.07 0-2.86zM5.41 20L4 18.59l7.72-7.72 1.47 1.35L5.41 20z\"/>\n",
              "  </svg>\n",
              "      </button>\n",
              "      \n",
              "  <style>\n",
              "    .colab-df-container {\n",
              "      display:flex;\n",
              "      flex-wrap:wrap;\n",
              "      gap: 12px;\n",
              "    }\n",
              "\n",
              "    .colab-df-convert {\n",
              "      background-color: #E8F0FE;\n",
              "      border: none;\n",
              "      border-radius: 50%;\n",
              "      cursor: pointer;\n",
              "      display: none;\n",
              "      fill: #1967D2;\n",
              "      height: 32px;\n",
              "      padding: 0 0 0 0;\n",
              "      width: 32px;\n",
              "    }\n",
              "\n",
              "    .colab-df-convert:hover {\n",
              "      background-color: #E2EBFA;\n",
              "      box-shadow: 0px 1px 2px rgba(60, 64, 67, 0.3), 0px 1px 3px 1px rgba(60, 64, 67, 0.15);\n",
              "      fill: #174EA6;\n",
              "    }\n",
              "\n",
              "    [theme=dark] .colab-df-convert {\n",
              "      background-color: #3B4455;\n",
              "      fill: #D2E3FC;\n",
              "    }\n",
              "\n",
              "    [theme=dark] .colab-df-convert:hover {\n",
              "      background-color: #434B5C;\n",
              "      box-shadow: 0px 1px 3px 1px rgba(0, 0, 0, 0.15);\n",
              "      filter: drop-shadow(0px 1px 2px rgba(0, 0, 0, 0.3));\n",
              "      fill: #FFFFFF;\n",
              "    }\n",
              "  </style>\n",
              "\n",
              "      <script>\n",
              "        const buttonEl =\n",
              "          document.querySelector('#df-d26a5852-4bb6-4110-a25f-0e8b0888bb90 button.colab-df-convert');\n",
              "        buttonEl.style.display =\n",
              "          google.colab.kernel.accessAllowed ? 'block' : 'none';\n",
              "\n",
              "        async function convertToInteractive(key) {\n",
              "          const element = document.querySelector('#df-d26a5852-4bb6-4110-a25f-0e8b0888bb90');\n",
              "          const dataTable =\n",
              "            await google.colab.kernel.invokeFunction('convertToInteractive',\n",
              "                                                     [key], {});\n",
              "          if (!dataTable) return;\n",
              "\n",
              "          const docLinkHtml = 'Like what you see? Visit the ' +\n",
              "            '<a target=\"_blank\" href=https://colab.research.google.com/notebooks/data_table.ipynb>data table notebook</a>'\n",
              "            + ' to learn more about interactive tables.';\n",
              "          element.innerHTML = '';\n",
              "          dataTable['output_type'] = 'display_data';\n",
              "          await google.colab.output.renderOutput(dataTable, element);\n",
              "          const docLink = document.createElement('div');\n",
              "          docLink.innerHTML = docLinkHtml;\n",
              "          element.appendChild(docLink);\n",
              "        }\n",
              "      </script>\n",
              "    </div>\n",
              "  </div>\n",
              "  "
            ]
          },
          "metadata": {},
          "execution_count": 8
        }
      ]
    },
    {
      "cell_type": "markdown",
      "source": [
        "## Checking for nans\n",
        "First let's try this to see if there are any nan values is the entire data set."
      ],
      "metadata": {
        "id": "RrglLSTvaoGq"
      }
    },
    {
      "cell_type": "code",
      "source": [
        "mush.isnull().values.any()"
      ],
      "metadata": {
        "colab": {
          "base_uri": "https://localhost:8080/"
        },
        "id": "pnK_8iIrWQk-",
        "outputId": "a20b25fa-e760-43bf-e5f5-7d7f95fb51f6"
      },
      "execution_count": null,
      "outputs": [
        {
          "output_type": "execute_result",
          "data": {
            "text/plain": [
              "False"
            ]
          },
          "metadata": {},
          "execution_count": 2
        }
      ]
    },
    {
      "cell_type": "markdown",
      "source": [
        "Supposedly there isn't, but lets check all the different values to make sure they aren't just being mistakes as a category. Additionally, we can look at the counts. This will give us the idea of the distribution of the features as well as look for outlier/mis-input data. "
      ],
      "metadata": {
        "id": "tvaoP6ibbRnt"
      }
    },
    {
      "cell_type": "code",
      "source": [
        "for i in range(len(mush.columns)):\n",
        "  print(mush.iloc[:,i].value_counts())"
      ],
      "metadata": {
        "colab": {
          "base_uri": "https://localhost:8080/"
        },
        "id": "VsOOXGgs7-kP",
        "outputId": "dbf61f49-dd57-4028-a2f6-d9388508a4af"
      },
      "execution_count": 9,
      "outputs": [
        {
          "output_type": "stream",
          "name": "stdout",
          "text": [
            "e    4208\n",
            "p    3916\n",
            "Name: class, dtype: int64\n",
            "x    3656\n",
            "f    3152\n",
            "k     828\n",
            "b     452\n",
            "s      32\n",
            "c       4\n",
            "Name: cap-shape, dtype: int64\n",
            "y    3244\n",
            "s    2556\n",
            "f    2320\n",
            "g       4\n",
            "Name: cap-surface, dtype: int64\n",
            "n    2284\n",
            "g    1840\n",
            "e    1500\n",
            "y    1072\n",
            "w    1040\n",
            "b     168\n",
            "p     144\n",
            "c      44\n",
            "u      16\n",
            "r      16\n",
            "Name: cap-color, dtype: int64\n",
            "f    4748\n",
            "t    3376\n",
            "Name: bruises, dtype: int64\n",
            "n    3528\n",
            "f    2160\n",
            "y     576\n",
            "s     576\n",
            "a     400\n",
            "l     400\n",
            "p     256\n",
            "c     192\n",
            "m      36\n",
            "Name: odor, dtype: int64\n",
            "f    7914\n",
            "a     210\n",
            "Name: gill-attachment, dtype: int64\n",
            "c    6812\n",
            "w    1312\n",
            "Name: gill-spacing, dtype: int64\n",
            "b    5612\n",
            "n    2512\n",
            "Name: gill-size, dtype: int64\n",
            "b    1728\n",
            "p    1492\n",
            "w    1202\n",
            "n    1048\n",
            "g     752\n",
            "h     732\n",
            "u     492\n",
            "k     408\n",
            "e      96\n",
            "y      86\n",
            "o      64\n",
            "r      24\n",
            "Name: gill-color, dtype: int64\n",
            "t    4608\n",
            "e    3516\n",
            "Name: stalk-shape, dtype: int64\n",
            "s    5176\n",
            "k    2372\n",
            "f     552\n",
            "y      24\n",
            "Name: stalk-surface-above-ring, dtype: int64\n",
            "s    4936\n",
            "k    2304\n",
            "f     600\n",
            "y     284\n",
            "Name: stalk-surface-below-ring, dtype: int64\n",
            "w    4464\n",
            "p    1872\n",
            "g     576\n",
            "n     448\n",
            "b     432\n",
            "o     192\n",
            "e      96\n",
            "c      36\n",
            "y       8\n",
            "Name: stalk-color-above-ring, dtype: int64\n",
            "w    4384\n",
            "p    1872\n",
            "g     576\n",
            "n     512\n",
            "b     432\n",
            "o     192\n",
            "e      96\n",
            "c      36\n",
            "y      24\n",
            "Name: stalk-color-below-ring, dtype: int64\n",
            "p    8124\n",
            "Name: veil-type, dtype: int64\n",
            "w    7924\n",
            "n      96\n",
            "o      96\n",
            "y       8\n",
            "Name: veil-color, dtype: int64\n",
            "o    7488\n",
            "t     600\n",
            "n      36\n",
            "Name: ring-number, dtype: int64\n",
            "p    3968\n",
            "e    2776\n",
            "l    1296\n",
            "f      48\n",
            "n      36\n",
            "Name: ring-type, dtype: int64\n",
            "w    2388\n",
            "n    1968\n",
            "k    1872\n",
            "h    1632\n",
            "r      72\n",
            "u      48\n",
            "o      48\n",
            "y      48\n",
            "b      48\n",
            "Name: spore-print-color, dtype: int64\n",
            "v    4040\n",
            "y    1712\n",
            "s    1248\n",
            "n     400\n",
            "a     384\n",
            "c     340\n",
            "Name: population, dtype: int64\n",
            "d    3148\n",
            "g    2148\n",
            "p    1144\n",
            "l     832\n",
            "u     368\n",
            "m     292\n",
            "w     192\n",
            "Name: habitat, dtype: int64\n"
          ]
        }
      ]
    },
    {
      "cell_type": "markdown",
      "source": [
        "After looking at the value counts, we can see there are no missing values or outliers/mis-input data (these would have been shown by suspisiously low counts). \n",
        "\n",
        "## Data Visualization\n",
        "Next we can look at some bar charts to get a better idea of the ditriubution of the data. 23 bar charts seemed like a lot so I only included four, one of the label (ebible or posionous) and three that I felt represented the distribution of the other features as well. These included gill attachment, stalk color above the ring, and habitat. "
      ],
      "metadata": {
        "id": "V8Ejo8UFcLwT"
      }
    },
    {
      "cell_type": "code",
      "source": [
        "A = mush['class'].value_counts().tolist()\n",
        "Acats = ['e', 'p']\n",
        "B = mush['gill-attachment'].value_counts().tolist()\n",
        "Bcats = ['f','a']\n",
        "C = mush['stalk-color-above-ring'].value_counts().tolist()\n",
        "Ccats = ['w','p','g','n','b','o','e','c','y']\n",
        "D = mush['habitat'].value_counts().tolist()\n",
        "Dcats = ['d','g','p','l','u','m','w']\n",
        "\n",
        "plt.bar(Acats,A)\n",
        "plt.title('class')\n",
        "plt.ylabel('count')\n",
        "plt.show()\n",
        "\n",
        "plt.bar(Bcats,B)\n",
        "plt.title('Gill Attachment')\n",
        "plt.ylabel('count')\n",
        "plt.show()\n",
        "\n",
        "plt.bar(Ccats,C)\n",
        "plt.title('Stalk Color Above Ring')\n",
        "plt.ylabel('count')\n",
        "plt.show()\n",
        "\n",
        "plt.bar(Dcats,D)\n",
        "plt.title('Habitat')\n",
        "plt.ylabel('count')\n",
        "plt.show()"
      ],
      "metadata": {
        "id": "aPulaaOiH4hz",
        "colab": {
          "base_uri": "https://localhost:8080/",
          "height": 1073
        },
        "outputId": "b57994df-1bcb-4697-984e-bf077903a5dc"
      },
      "execution_count": null,
      "outputs": [
        {
          "output_type": "display_data",
          "data": {
            "text/plain": [
              "<Figure size 432x288 with 1 Axes>"
            ],
            "image/png": "[encoded data removed]"
          },
          "metadata": {
            "needs_background": "light"
          }
        },
        {
          "output_type": "display_data",
          "data": {
            "text/plain": [
              "<Figure size 432x288 with 1 Axes>"
            ],
            "image/png": "[encoded data removed]"
          },
          "metadata": {
            "needs_background": "light"
          }
        },
        {
          "output_type": "display_data",
          "data": {
            "text/plain": [
              "<Figure size 432x288 with 1 Axes>"
            ],
            "image/png": "[encoded data removed]"
          },
          "metadata": {
            "needs_background": "light"
          }
        },
        {
          "output_type": "display_data",
          "data": {
            "text/plain": [
              "<Figure size 432x288 with 1 Axes>"
            ],
            "image/png": "[encoded data removed]"
          },
          "metadata": {
            "needs_background": "light"
          }
        }
      ]
    },
    {
      "cell_type": "markdown",
      "source": [
        "# Splitting the data\n",
        "Now it's time to split the data. I decided to split into three groups, train, test, and validation, to ensure the hold out data didn't get touched until the very end. To do this three way split I used Fast Machine Learning's train, validation, test split because it was efficient. "
      ],
      "metadata": {
        "id": "GxW0mLexdjm6"
      }
    },
    {
      "cell_type": "code",
      "source": [
        "X_train, y_train, X_valid, y_valid, X_test, y_test = train_valid_test_split(mush, target = 'class', \n",
        "                                                                            train_size=0.8, valid_size=0.1, test_size=0.1)\n",
        "y_train = y_train.tolist()\n",
        "y_test = y_test.tolist()\n",
        "y_valid = y_valid.tolist()"
      ],
      "metadata": {
        "id": "2HyCh-C1ceAD"
      },
      "execution_count": null,
      "outputs": []
    },
    {
      "cell_type": "markdown",
      "source": [
        "# One Hot Encoding\n",
        "As I had all categorical data, and none of the Scikit Learn models support catagorical data, I had to one hot encode all of my features. So here I used one hot encoding to transform my X train and test set (saving the validation set for the pipeline at the end). \n",
        "\n",
        "### Why Not Ordinal Encoding?\n",
        "As we learned, ordinal incoding implies order to the categories. So if I had used ordinal encoding my model would have associated categories 1 and 2 more closely than 1 and 4. These associations would have been reflected in decsion boundaries. For example a decision tree branching off depening on whether the feature is greater or less than 2. But I still implemented ordinal encoding for my X train and test. We will use it in a bit. "
      ],
      "metadata": {
        "id": "8CE9wTikee-3"
      }
    },
    {
      "cell_type": "code",
      "source": [
        "cat_encoder = OneHotEncoder(handle_unknown=\"ignore\")\n",
        "cat_encoder.fit(X_train)\n",
        "X_train1hot = cat_encoder.transform(X_train)\n",
        "X_test1hot = cat_encoder.transform(X_test)"
      ],
      "metadata": {
        "id": "U0ZyW_nLKQy-"
      },
      "execution_count": null,
      "outputs": []
    },
    {
      "cell_type": "code",
      "source": [
        "ord_encoder = OrdinalEncoder(handle_unknown=\"use_encoded_value\", unknown_value=20)\n",
        "ord_encoder.fit(X_train)\n",
        "X_train_ord = ord_encoder.transform(X_train)\n",
        "X_test_ord = ord_encoder.transform(X_test)"
      ],
      "metadata": {
        "id": "W3oC8PAuzz-S"
      },
      "execution_count": null,
      "outputs": []
    },
    {
      "cell_type": "markdown",
      "source": [
        "# Training models\n",
        "### Why decision trees?\n",
        "This data set contained 23 species of mushrooms with 23 categorical features. From my understanding, non-poisonous mushrooms evolve to look like poisinous mushroom so they don't get eaten by predators. So likely, in this data set there are pairs of mushrooms with very similar features, but different class. It seemed unlikely to me a linear or polynomial would be successful in finding a boundary that splits the few features the pair differed in, for each of the pairs. It seemed more logical to me that a decision tree, making splits one feature at a time, would be more successful at weeding out these feaures. \n",
        "\n",
        "Moreover, we learned about several decision tree based ensemble methods throughout the class. I wanted to quickly run a few of them to see what worked best. I chose to use f1 score to evaluate the models as it has balance between precision and recall. I considered just using recall as my evaluation method, because its better to not eat an edible mushroom than to risk eating a poisonous one, but decided f1 gave a more balanced score. \n",
        "\n",
        "To start, I just wanted to run a few of these models using cross validations to get an intial idea of what worked best. For this inital test I chose regualarization parameters based on the 23 features. "
      ],
      "metadata": {
        "id": "BGee48x_hkBc"
      }
    },
    {
      "cell_type": "code",
      "source": [
        "tree_clf = DecisionTreeClassifier(max_depth=23)\n",
        "tree_pred = cross_val_predict(tree_clf, X_train1hot, y_train, cv=8)\n",
        "print(f1_score(y_train, tree_pred, pos_label=\"e\"))"
      ],
      "metadata": {
        "colab": {
          "base_uri": "https://localhost:8080/"
        },
        "id": "5KkyCdZ9NH73",
        "outputId": "2fc886a4-8ca7-44b7-f922-dba6f87d2687"
      },
      "execution_count": null,
      "outputs": [
        {
          "output_type": "stream",
          "name": "stdout",
          "text": [
            "0.5026978417266187\n"
          ]
        }
      ]
    },
    {
      "cell_type": "code",
      "source": [
        "\n",
        "bag_clf = BaggingClassifier(\n",
        "    DecisionTreeClassifier(), n_estimators=23,\n",
        "    max_samples=100, bootstrap=True, n_jobs=-1)\n",
        "bag_pred = cross_val_predict(bag_clf, X_train1hot, y_train, cv=8)\n",
        "print(f1_score(y_train, bag_pred, pos_label=\"e\"))"
      ],
      "metadata": {
        "colab": {
          "base_uri": "https://localhost:8080/"
        },
        "id": "sBjW4iyJPJ4v",
        "outputId": "30006d6e-6a92-4693-eb57-852763a76a8f"
      },
      "execution_count": null,
      "outputs": [
        {
          "output_type": "stream",
          "name": "stdout",
          "text": [
            "0.5424882962122287\n"
          ]
        }
      ]
    },
    {
      "cell_type": "code",
      "source": [
        "\n",
        "rnd_clf = RandomForestClassifier(n_estimators=200, max_leaf_nodes=23, n_jobs=-1)\n",
        "rnd_pred = cross_val_predict(rnd_clf, X_train1hot, y_train, cv=8)\n",
        "print(f1_score(y_train, rnd_pred, pos_label=\"e\"))"
      ],
      "metadata": {
        "colab": {
          "base_uri": "https://localhost:8080/"
        },
        "id": "tdCxLrp1RiQX",
        "outputId": "8e49c335-d74c-47d6-d33a-f6ac455c30dd"
      },
      "execution_count": null,
      "outputs": [
        {
          "output_type": "stream",
          "name": "stdout",
          "text": [
            "0.6154406409322651\n"
          ]
        }
      ]
    },
    {
      "cell_type": "markdown",
      "source": [
        "Here I used tried the ensemble method, Light Gradient Boosting Classifier, which we did not cover in class. Similar to Scikit-Learn's gradient boosting tree, it works to sequntially adding predictors that correct the predecessor's residual error. Note: No parameter regularization was used for this model. "
      ],
      "metadata": {
        "id": "8SIUMlfauhci"
      }
    },
    {
      "cell_type": "code",
      "source": [
        "lgb_clf = lgb.LGBMClassifier()\n",
        "lgb_pred = cross_val_predict(lgb_clf, X_train_ord, y_train, cv=8)\n",
        "print(f1_score(y_train, lgb_pred, pos_label=\"e\"))"
      ],
      "metadata": {
        "colab": {
          "base_uri": "https://localhost:8080/"
        },
        "id": "h9Nm1RPqyUMv",
        "outputId": "57eb4f55-d4bb-4573-d75e-8d489baae412"
      },
      "execution_count": null,
      "outputs": [
        {
          "output_type": "stream",
          "name": "stdout",
          "text": [
            "1.0\n"
          ]
        }
      ]
    },
    {
      "cell_type": "markdown",
      "source": [
        "# Evaluating the model so far\n",
        "Besides the light graident boosting classifer, the random foreest model has the greatest f1 score, so we will move forward using it. \n",
        "### Confusion matrix\n",
        "Based on the confusion matrix we can see the model is classifying all instances as edible, which from the bar chart above we can see is the more frequent class. Therefore the model is overfitting the data. \n"
      ],
      "metadata": {
        "id": "bFZTtl9NmVBf"
      }
    },
    {
      "cell_type": "code",
      "source": [
        "conf_mx = confusion_matrix(y_train, rnd_pred)\n",
        "plt.matshow(conf_mx, cmap=plt.cm.summer)\n",
        "plt.show()"
      ],
      "metadata": {
        "colab": {
          "base_uri": "https://localhost:8080/",
          "height": 275
        },
        "id": "db4r06H1uWdM",
        "outputId": "d2bb6ae6-bcd8-4bad-d6a2-2845c6000134"
      },
      "execution_count": null,
      "outputs": [
        {
          "output_type": "display_data",
          "data": {
            "text/plain": [
              "<Figure size 288x288 with 1 Axes>"
            ],
            "image/png": "[encoded data removed]"
          },
          "metadata": {
            "needs_background": "light"
          }
        }
      ]
    },
    {
      "cell_type": "markdown",
      "source": [
        "### ROC curve\n",
        "A ROC curve plots the true positives compared to false positives. A good ROC curve would arch into the upper left hand corner (having a high true positive and low false positive count) and have an area under the curve of 1. The area under this ROC curve is .49, meaning the model is randomly guessing. \n",
        "\n",
        "### Overfitting \n",
        "Both the confusion matrix and ROC curve indicate the random forest model is overfitting the model, so we should lower the hyperparameters to regularize the model.\n"
      ],
      "metadata": {
        "id": "t0V0eMb7pZmm"
      }
    },
    {
      "cell_type": "code",
      "source": [
        "rnd_clf.fit(X_train1hot, y_train)\n",
        "rnd_pred_proba = rnd_clf.predict_proba(X_test1hot)\n",
        "listprob = rnd_pred_proba[:,1]\n",
        "fpr, tpr, thresholds = roc_curve(y_test, listprob, pos_label='e')\n",
        "def plot_roc_curve(fpr, tpr, label=None): #plots roc curve\n",
        "    plt.plot(fpr, tpr, linewidth=2, label=label)\n",
        "    plt.plot([0, 1], [0, 1], 'k--') # dashed diagonal\n",
        "    plt.axis([0, 1, 0, 1])                                    \n",
        "    plt.xlabel('False Positive Rate (Fall-Out)', fontsize=16) \n",
        "    plt.ylabel('True Positive Rate (Recall)', fontsize=16)   \n",
        "    plt.grid(True)                                            \n",
        "\n",
        "plt.figure(figsize=(8, 6))                                   \n",
        "plot_roc_curve(fpr, tpr)                               \n",
        "plt.show()"
      ],
      "metadata": {
        "colab": {
          "base_uri": "https://localhost:8080/",
          "height": 397
        },
        "id": "tpTYnt5dM3pY",
        "outputId": "670c558e-281d-4f0a-c872-1235bf59345f"
      },
      "execution_count": null,
      "outputs": [
        {
          "output_type": "display_data",
          "data": {
            "text/plain": [
              "<Figure size 576x432 with 1 Axes>"
            ],
            "image/png": "[encoded data removed]"
          },
          "metadata": {
            "needs_background": "light"
          }
        }
      ]
    },
    {
      "cell_type": "code",
      "source": [
        "roc_auc_score(y_test, listprob)"
      ],
      "metadata": {
        "colab": {
          "base_uri": "https://localhost:8080/"
        },
        "id": "Ix1y-CcrsJDf",
        "outputId": "dafc784f-e726-46ec-b1c7-42fd3cf3b02a"
      },
      "execution_count": null,
      "outputs": [
        {
          "output_type": "execute_result",
          "data": {
            "text/plain": [
              "0.4909716983427834"
            ]
          },
          "metadata": {},
          "execution_count": 106
        }
      ]
    },
    {
      "cell_type": "markdown",
      "source": [
        "# Randomized grid search\n",
        "Despite the indications the model is overfitting the data, lowering the parameters of the random forest only lowered the f1 score further. I decided to run a randomized grid search to see if the best number of esimators and maximum leaves for the model. The resulting model found the best classifer had 445 estimators and 39 leaves."
      ],
      "metadata": {
        "id": "V-oIxhfzq1il"
      }
    },
    {
      "cell_type": "code",
      "source": [
        "param_distribs = {\n",
        "        'n_estimators': randint(low=10, high=500),\n",
        "        'max_leaf_nodes': randint(low=1, high=50),\n",
        "    }\n",
        "\n",
        "forest_clf = RandomForestClassifier(random_state=42)\n",
        "rnd_search = RandomizedSearchCV(forest_clf, param_distributions=param_distribs,\n",
        "                                n_iter=10, cv=5, scoring='f1', random_state=42)\n",
        "rnd_search.fit(X_train1hot, y_train)"
      ],
      "metadata": {
        "colab": {
          "base_uri": "https://localhost:8080/"
        },
        "id": "yH2jhlfG65BE",
        "outputId": "f8762e65-1951-4c87-bcae-b10763a1fc7b"
      },
      "execution_count": null,
      "outputs": [
        {
          "output_type": "execute_result",
          "data": {
            "text/plain": [
              "RandomizedSearchCV(cv=5, estimator=RandomForestClassifier(random_state=42),\n",
              "                   param_distributions={'max_leaf_nodes': <scipy.stats._distn_infrastructure.rv_frozen object at 0x7fd7485aaf10>,\n",
              "                                        'n_estimators': <scipy.stats._distn_infrastructure.rv_frozen object at 0x7fd7489e1590>},\n",
              "                   random_state=42, scoring='f1')"
            ]
          },
          "metadata": {},
          "execution_count": 138
        }
      ]
    },
    {
      "cell_type": "code",
      "source": [
        "rnd_search.best_estimator_"
      ],
      "metadata": {
        "colab": {
          "base_uri": "https://localhost:8080/"
        },
        "id": "Nn8NWggD-zlK",
        "outputId": "969b62e4-d09b-42e6-a9ce-950039e43caf"
      },
      "execution_count": null,
      "outputs": [
        {
          "output_type": "execute_result",
          "data": {
            "text/plain": [
              "RandomForestClassifier(max_leaf_nodes=39, n_estimators=445, random_state=42)"
            ]
          },
          "metadata": {},
          "execution_count": 193
        }
      ]
    },
    {
      "cell_type": "code",
      "source": [
        "categorical_features = [\"cap-shape\", \"cap-surface\", \"cap-color\", \"bruises\", \"odor\", \"gill-attachment\", \"gill-spacing\", \"gill-size\", \n",
        "                        \"gill-color\", \"stalk-shape\", \"stalk-root\", \"stalk-surface-above-ring\", \"stalk-surface-below-ring\", \n",
        "                        \"stalk-color-above-ring\", \"stalk-color-below-ring\", \"veil-type\", \"veil-color\", \"ring-number\", \n",
        "                        \"ring-type\", \"spore-print-color\", \"population\", \"habitat\"]\n",
        "\n",
        "preprocess = ColumnTransformer([\n",
        "                                (\"cat\", OneHotEncoder(handle_unknown=\"ignore\"), categorical_features)\n",
        "])"
      ],
      "metadata": {
        "id": "jdfH33lOB3NQ"
      },
      "execution_count": null,
      "outputs": []
    },
    {
      "cell_type": "code",
      "source": [
        "my_pipeline = Pipeline([\n",
        "                        (\"pre\", preprocess),\n",
        "                        ('rand', RandomForestClassifier(n_estimators=445, max_leaf_nodes=39, n_jobs=-1))\n",
        "])"
      ],
      "metadata": {
        "id": "tivm3AYYJtCo"
      },
      "execution_count": null,
      "outputs": []
    },
    {
      "cell_type": "code",
      "source": [
        "my_pipeline.fit(X_train, y_train)"
      ],
      "metadata": {
        "colab": {
          "base_uri": "https://localhost:8080/"
        },
        "id": "VgDz8wZ-LPdU",
        "outputId": "29fa6516-d644-45a9-d29e-2bfb9d8312fe"
      },
      "execution_count": null,
      "outputs": [
        {
          "output_type": "execute_result",
          "data": {
            "text/plain": [
              "Pipeline(steps=[('pre',\n",
              "                 ColumnTransformer(transformers=[('cat',\n",
              "                                                  OneHotEncoder(handle_unknown='ignore'),\n",
              "                                                  ['cap-shape', 'cap-surface',\n",
              "                                                   'cap-color', 'bruises',\n",
              "                                                   'odor', 'gill-attachment',\n",
              "                                                   'gill-spacing', 'gill-size',\n",
              "                                                   'gill-color', 'stalk-shape',\n",
              "                                                   'stalk-root',\n",
              "                                                   'stalk-surface-above-ring',\n",
              "                                                   'stalk-surface-below-ring',\n",
              "                                                   'stalk-color-above-ring',\n",
              "                                                   'stalk-color-below-ring',\n",
              "                                                   'veil-type', 'veil-color',\n",
              "                                                   'ring-number', 'ring-type',\n",
              "                                                   'spore-print-color',\n",
              "                                                   'population',\n",
              "                                                   'habitat'])])),\n",
              "                ('rand',\n",
              "                 RandomForestClassifier(max_leaf_nodes=39, n_estimators=445,\n",
              "                                        n_jobs=-1))])"
            ]
          },
          "metadata": {},
          "execution_count": 195
        }
      ]
    },
    {
      "cell_type": "markdown",
      "source": [
        "# Final model\n",
        "I set up my pipeline using the best parameters found using the grid search and ran on the validation set. I got the final f1 score of 1... Which sounds too good to be true and it is.\n",
        "\n",
        "### Why did I get an f1 score of 1?\n",
        "Overfitting. With the high number of estimators and max leaves, the model overfit, finding a path for each species. Additionally, despite having around 8,000 instances, there were only 23 species. While some of the features may have varied within the same species, the number of these unique instances were likely limited. Meaning there were MANY repeat instances in the data set. The model preformed well on the validation set because despite keeping the model from training on the validation instances ahead of time, the model had actually already seen them in the training data because they were repeats. Therefore, the model overfit both the training and validation data, because the high regualarization parameters allowed the model to fit each unique instance.  \n",
        "\n"
      ],
      "metadata": {
        "id": "lwu2cHqsr7h9"
      }
    },
    {
      "cell_type": "code",
      "source": [
        "y_pred=my_pipeline.predict(X_valid)\n",
        "f1_score(y_valid, y_pred, pos_label=\"e\")"
      ],
      "metadata": {
        "colab": {
          "base_uri": "https://localhost:8080/"
        },
        "id": "oSsqjyHkOoju",
        "outputId": "63b14d1c-c913-46ad-ebe1-1988c2845620"
      },
      "execution_count": null,
      "outputs": [
        {
          "output_type": "execute_result",
          "data": {
            "text/plain": [
              "1.0"
            ]
          },
          "metadata": {},
          "execution_count": 202
        }
      ]
    },
    {
      "cell_type": "markdown",
      "source": [
        "Sources\n",
        "\n",
        "https://towardsdatascience.com/how-to-split-data-into-three-sets-train-validation-and-test-and-why-e50d22d3e54c\n",
        "https://www.tutorialspoint.com/how-to-plot-a-bar-chart-for-a-list-in-python-matplotlib\n",
        "\n",
        "https://blog.dataiku.com/how-do-gradient-boosting-algorithms-handle-categorical-variables\n",
        "https://datascience.stackexchange.com/questions/35713/i-got-100-accuracy-on-my-test-set-is-there-something-wrong\n",
        "https://scikit-learn.org/stable/modules/generated/sklearn.pipeline.Pipeline.html#sklearn.pipeline.Pipeline.score_samples\n",
        "\n"
      ],
      "metadata": {
        "id": "YJTFOUfrf5Q4"
      }
    },
    {
      "cell_type": "markdown",
      "source": [
        ""
      ],
      "metadata": {
        "id": "PaeLttCn5Ne1"
      }
    }
  ]
}